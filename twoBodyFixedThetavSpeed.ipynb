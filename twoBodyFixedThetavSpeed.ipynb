{
 "cells": [
  {
   "cell_type": "code",
   "execution_count": 5,
   "metadata": {},
   "outputs": [
    {
     "data": {
      "text/html": [
       "<div id=\"glowscript\" class=\"glowscript\"></div>"
      ],
      "text/plain": [
       "<IPython.core.display.HTML object>"
      ]
     },
     "metadata": {},
     "output_type": "display_data"
    },
    {
     "data": {
      "application/javascript": [
       "if (typeof Jupyter !== \"undefined\") { window.__context = { glowscript_container: $(\"#glowscript\").removeAttr(\"id\")};}else{ element.textContent = ' ';}"
      ],
      "text/plain": [
       "<IPython.core.display.Javascript object>"
      ]
     },
     "metadata": {},
     "output_type": "display_data"
    },
    {
     "name": "stdout",
     "output_type": "stream",
     "text": [
      "Theta: 2.123612636628369\n",
      "Theta: 1.8080172595490245\n",
      "Theta: 1.5078290387981705\n",
      "Theta: 1.2489668049128222\n",
      "Theta: 1.0371066388079506\n",
      "Theta: 0.8677005887291664\n",
      "Theta: 0.7330475434460171\n",
      "Theta: 0.6256512338186501\n",
      "Theta: 0.539303353308108\n",
      "Theta: 0.46918273580384867\n",
      "Theta: 0.41163887077113714\n",
      "Theta: 0.3639267239633948\n",
      "Theta: 0.3239775902916819\n",
      "Theta: 0.2902218659840904\n",
      "Theta: 0.26145791970896703\n",
      "Theta: 0.2367567124712783\n",
      "Theta: 0.21539269640222555\n",
      "Theta: 0.19679361453776198\n",
      "Theta: 0.18050380126741497\n",
      "Theta: 0.16615713341590513\n",
      "Theta: 0.15345691373115006\n",
      "Theta: 0.14216076986391957\n",
      "Theta: 0.13206921225092874\n",
      "Theta: 0.12301688495314494\n",
      "Theta: 0.11486581643489403\n",
      "Theta: 0.10750016894204335\n",
      "Theta: 0.10082212066077181\n",
      "Theta: 0.09474861140303366\n",
      "Theta: 0.08920875193505269\n",
      "Theta: 0.08414174731727395\n"
     ]
    },
    {
     "data": {
      "text/plain": [
       "Text(0, 0.5, '$\\\\theta$ (rad)')"
      ]
     },
     "execution_count": 5,
     "metadata": {},
     "output_type": "execute_result"
    },
    {
     "data": {
      "image/png": "[encoded data removed]",
      "text/plain": [
       "<Figure size 432x288 with 1 Axes>"
      ]
     },
     "metadata": {
      "needs_background": "light"
     },
     "output_type": "display_data"
    }
   ],
   "source": [
    "from vpython import *\n",
    "import numpy as np\n",
    "from numpy import linspace, pi, array, sqrt, ones, copy, cos, sin\n",
    "from pylab import plot, show, xlabel, ylabel, legend, figure, scatter\n",
    "\n",
    "'''\n",
    "Planet is fixed at (0, 0). Firing satellite directly in its path to see behavior.\n",
    "Will add velocity to planet later. Want to see how close this is to an elastic collision. \n",
    "'''\n",
    "\n",
    "def alpha(r):\n",
    "    x = r[0]\n",
    "    y = r[1]\n",
    "    rcube = sqrt(x**2 + y**2)**3\n",
    "    \n",
    "    return array([-G*M*x/rcube, -G*M*y/rcube], float)\n",
    "\n",
    "# constants\n",
    "M = 5.972e24\n",
    "m = 2e13\n",
    "R = 3.844e8\n",
    "G = 6.67408e-11\n",
    "dt = 60\n",
    "\n",
    "# initial conditions\n",
    "# [x,y]\n",
    "r = array([-2*R, 0.5*R], float)  # assume perigee is starting x intercept\n",
    "# [vx, vy]\n",
    "v = array([1e3, 0], float)\n",
    "t = 0\n",
    "\n",
    "# data\n",
    "xlist = []\n",
    "ylist = []\n",
    "tlist = []\n",
    "Epotlist = []\n",
    "Ekinlist = []\n",
    "Elist = []\n",
    "\n",
    "# half step\n",
    "vmid = v + alpha(r)*0.5*dt\n",
    "\n",
    "# vpython setup\n",
    "scene = canvas(background = color.white, align=\"left\", center=vector(0,0,0))\n",
    "earth = sphere(pos=vector(0,0,0), radius=0.2, color=color.blue, make_trail=True)\n",
    "satellite = sphere(pos=vector(r[0]/R,r[1]/R,0), radius = 0.08, color=color.magenta, make_trail=True)\n",
    "\n",
    "temp = 1e3\n",
    "\n",
    "thetas = []\n",
    "vels  = []\n",
    "\n",
    "# approximated using months -> seconds conversion\n",
    "for k in range(30):\n",
    "    temp += 2e2\n",
    "    \n",
    "    vels.append(temp)\n",
    "    \n",
    "    r = array([-2*R, 0.5*R], float)\n",
    "    v = array([temp, 0], float)\n",
    "    t = 0\n",
    "    xlist = []\n",
    "    ylist = []\n",
    "    tlist = []\n",
    "    Epotlist = []\n",
    "    Ekinlist = []\n",
    "    Elist = []\n",
    "    \n",
    "    vmid = v + alpha(r)*0.5*dt\n",
    "    \n",
    "    while t < 0.25*2629743:\n",
    "#         rate(1000)\n",
    "\n",
    "        # unpack for energy\n",
    "        x, y = r[0], r[1]\n",
    "        vx, vy = v[0], v[1]\n",
    "        rmag = sqrt(x**2 + y**2)\n",
    "        vmag = sqrt(vx**2 + vy**2)\n",
    "\n",
    "        satellite.pos = vector(r[0]/R, r[1]/R, 0)\n",
    "\n",
    "        xlist.append(x)\n",
    "        ylist.append(y)\n",
    "\n",
    "        U = -G*M*m/rmag\n",
    "        KE = 0.5*m*vmag**2\n",
    "\n",
    "        tlist.append(t)\n",
    "        Epotlist.append(U)\n",
    "        Ekinlist.append(KE)\n",
    "        Elist.append(U + KE)\n",
    "\n",
    "        # verlet method\n",
    "        r += vmid*dt\n",
    "        v = vmid + alpha(r)*0.5*dt\n",
    "        vmid += alpha(r)*dt\n",
    "        t += dt\n",
    "\n",
    "    th = abs(np.arctan(v[1]/v[0]))\n",
    "    if v[0] < 0:\n",
    "        th = np.pi - th\n",
    "\n",
    "    print(\"Theta: \" + str(th))    \n",
    "    thetas.append(th)\n",
    "    \n",
    "#     plot(xlist, ylist)\n",
    "#     xlabel(\"x\")\n",
    "#     ylabel(\"y\")\n",
    "    \n",
    "#     figure()\n",
    "#     plot(tlist, Epotlist, \"r-\", label=\"U\")\n",
    "#     plot(tlist, Ekinlist, \"b-\", label=\"K\")\n",
    "#     plot(tlist, Elist, \"g-\", label=\"Total E\")\n",
    "#     xlabel(\"Time (s)\")\n",
    "#     ylabel('Energy (J)')\n",
    "\n",
    "#     figure()\n",
    "#     plot(tlist, Elist, \"g-\", label=\"Total E\")\n",
    "#     xlabel(\"Time (s)\")\n",
    "#     ylabel('Energy (J)')\n",
    "#     legend()\n",
    "#     show()\n",
    "    \n",
    "scatter(vels, thetas)\n",
    "xlabel(\"Init Vel (m/s)\")\n",
    "ylabel(r\"$\\theta$ (rad)\")"
   ]
  },
  {
   "cell_type": "code",
   "execution_count": null,
   "metadata": {},
   "outputs": [],
   "source": []
  }
 ],
 "metadata": {
  "kernelspec": {
   "display_name": "Python 3",
   "language": "python",
   "name": "python3"
  },
  "language_info": {
   "codemirror_mode": {
    "name": "ipython",
    "version": 3
   },
   "file_extension": ".py",
   "mimetype": "text/x-python",
   "name": "python",
   "nbconvert_exporter": "python",
   "pygments_lexer": "ipython3",
   "version": "3.7.1"
  }
 },
 "nbformat": 4,
 "nbformat_minor": 2
}
