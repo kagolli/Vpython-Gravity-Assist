{
 "cells": [
  {
   "cell_type": "code",
   "execution_count": 1,
   "metadata": {},
   "outputs": [
    {
     "data": {
      "application/javascript": [
       "if (typeof Jupyter !== \"undefined\") {require.undef(\"nbextensions/vpython_libraries/glow.min\");}else{element.textContent = ' ';}"
      ],
      "text/plain": [
       "<IPython.core.display.Javascript object>"
      ]
     },
     "metadata": {},
     "output_type": "display_data"
    },
    {
     "data": {
      "application/javascript": [
       "if (typeof Jupyter !== \"undefined\") {require.undef(\"nbextensions/vpython_libraries/glowcomm\");}else{element.textContent = ' ';}"
      ],
      "text/plain": [
       "<IPython.core.display.Javascript object>"
      ]
     },
     "metadata": {},
     "output_type": "display_data"
    },
    {
     "data": {
      "application/javascript": [
       "if (typeof Jupyter !== \"undefined\") {require.undef(\"nbextensions/vpython_libraries/jquery-ui.custom.min\");}else{element.textContent = ' ';}"
      ],
      "text/plain": [
       "<IPython.core.display.Javascript object>"
      ]
     },
     "metadata": {},
     "output_type": "display_data"
    },
    {
     "data": {
      "application/javascript": [
       "if (typeof Jupyter !== \"undefined\") {require([\"nbextensions/vpython_libraries/glow.min\"], function(){console.log(\"GLOW LOADED\");});}else{element.textContent = ' ';}"
      ],
      "text/plain": [
       "<IPython.core.display.Javascript object>"
      ]
     },
     "metadata": {},
     "output_type": "display_data"
    },
    {
     "data": {
      "application/javascript": [
       "if (typeof Jupyter !== \"undefined\") {require([\"nbextensions/vpython_libraries/glowcomm\"], function(){console.log(\"GLOWCOMM LOADED\");});}else{element.textContent = ' ';}"
      ],
      "text/plain": [
       "<IPython.core.display.Javascript object>"
      ]
     },
     "metadata": {},
     "output_type": "display_data"
    },
    {
     "data": {
      "application/javascript": [
       "if (typeof Jupyter !== \"undefined\") {require([\"nbextensions/vpython_libraries/jquery-ui.custom.min\"], function(){console.log(\"JQUERY LOADED\");});}else{element.textContent = ' ';}"
      ],
      "text/plain": [
       "<IPython.core.display.Javascript object>"
      ]
     },
     "metadata": {},
     "output_type": "display_data"
    },
    {
     "data": {
      "text/html": [
       "<div id=\"glowscript\" class=\"glowscript\"></div>"
      ],
      "text/plain": [
       "<IPython.core.display.HTML object>"
      ]
     },
     "metadata": {},
     "output_type": "display_data"
    },
    {
     "data": {
      "application/javascript": [
       "if (typeof Jupyter !== \"undefined\") { window.__context = { glowscript_container: $(\"#glowscript\").removeAttr(\"id\")};}else{ element.textContent = ' ';}"
      ],
      "text/plain": [
       "<IPython.core.display.Javascript object>"
      ]
     },
     "metadata": {},
     "output_type": "display_data"
    },
    {
     "data": {
      "text/html": [
       "<div id=\"glowscript\" class=\"glowscript\"></div>"
      ],
      "text/plain": [
       "<IPython.core.display.HTML object>"
      ]
     },
     "metadata": {},
     "output_type": "display_data"
    },
    {
     "data": {
      "application/javascript": [
       "if (typeof Jupyter !== \"undefined\") { window.__context = { glowscript_container: $(\"#glowscript\").removeAttr(\"id\")};}else{ element.textContent = ' ';}"
      ],
      "text/plain": [
       "<IPython.core.display.Javascript object>"
      ]
     },
     "metadata": {},
     "output_type": "display_data"
    },
    {
     "ename": "KeyboardInterrupt",
     "evalue": "",
     "output_type": "error",
     "traceback": [
      "\u001b[0;31m---------------------------------------------------------------------------\u001b[0m",
      "\u001b[0;31mKeyboardInterrupt\u001b[0m                         Traceback (most recent call last)",
      "\u001b[0;32m<ipython-input-1-f0a429c63d87>\u001b[0m in \u001b[0;36m<module>\u001b[0;34m\u001b[0m\n\u001b[1;32m     86\u001b[0m \u001b[0;34m\u001b[0m\u001b[0m\n\u001b[1;32m     87\u001b[0m     \u001b[0;32mwhile\u001b[0m \u001b[0;32mTrue\u001b[0m\u001b[0;34m:\u001b[0m \u001b[0;31m#t < 0.5*2629743:\u001b[0m\u001b[0;34m\u001b[0m\u001b[0;34m\u001b[0m\u001b[0m\n\u001b[0;32m---> 88\u001b[0;31m         \u001b[0mrate\u001b[0m\u001b[0;34m(\u001b[0m\u001b[0;36m100\u001b[0m\u001b[0;34m)\u001b[0m\u001b[0;34m\u001b[0m\u001b[0;34m\u001b[0m\u001b[0m\n\u001b[0m\u001b[1;32m     89\u001b[0m \u001b[0;34m\u001b[0m\u001b[0m\n\u001b[1;32m     90\u001b[0m         \u001b[0;31m# unpack for energy\u001b[0m\u001b[0;34m\u001b[0m\u001b[0;34m\u001b[0m\u001b[0;34m\u001b[0m\u001b[0m\n",
      "\u001b[0;32m~/anaconda3/lib/python3.7/site-packages/vpython/vpython.py\u001b[0m in \u001b[0;36m__call__\u001b[0;34m(self, N)\u001b[0m\n\u001b[1;32m    214\u001b[0m         \u001b[0mself\u001b[0m\u001b[0;34m.\u001b[0m\u001b[0mrval\u001b[0m \u001b[0;34m=\u001b[0m \u001b[0mN\u001b[0m\u001b[0;34m\u001b[0m\u001b[0;34m\u001b[0m\u001b[0m\n\u001b[1;32m    215\u001b[0m         \u001b[0;32mif\u001b[0m \u001b[0mself\u001b[0m\u001b[0;34m.\u001b[0m\u001b[0mrval\u001b[0m \u001b[0;34m<\u001b[0m \u001b[0;36m1\u001b[0m\u001b[0;34m:\u001b[0m \u001b[0;32mraise\u001b[0m \u001b[0mValueError\u001b[0m\u001b[0;34m(\u001b[0m\u001b[0;34m\"rate value must be greater than or equal to 1\"\u001b[0m\u001b[0;34m)\u001b[0m\u001b[0;34m\u001b[0m\u001b[0;34m\u001b[0m\u001b[0m\n\u001b[0;32m--> 216\u001b[0;31m         \u001b[0msuper\u001b[0m\u001b[0;34m(\u001b[0m\u001b[0m_RateKeeper2\u001b[0m\u001b[0;34m,\u001b[0m \u001b[0mself\u001b[0m\u001b[0;34m)\u001b[0m\u001b[0;34m.\u001b[0m\u001b[0m__call__\u001b[0m\u001b[0;34m(\u001b[0m\u001b[0mself\u001b[0m\u001b[0;34m.\u001b[0m\u001b[0mrval\u001b[0m\u001b[0;34m)\u001b[0m \u001b[0;31m## calls __call__ in rate_control.py\u001b[0m\u001b[0;34m\u001b[0m\u001b[0;34m\u001b[0m\u001b[0m\n\u001b[0m\u001b[1;32m    217\u001b[0m \u001b[0;34m\u001b[0m\u001b[0m\n\u001b[1;32m    218\u001b[0m \u001b[0;32mif\u001b[0m \u001b[0msys\u001b[0m\u001b[0;34m.\u001b[0m\u001b[0mversion\u001b[0m \u001b[0;34m>\u001b[0m \u001b[0;34m'3'\u001b[0m\u001b[0;34m:\u001b[0m\u001b[0;34m\u001b[0m\u001b[0;34m\u001b[0m\u001b[0m\n",
      "\u001b[0;32m~/anaconda3/lib/python3.7/site-packages/vpython/rate_control.py\u001b[0m in \u001b[0;36m__call__\u001b[0;34m(self, maxRate)\u001b[0m\n\u001b[1;32m    205\u001b[0m             \u001b[0mdt\u001b[0m \u001b[0;34m=\u001b[0m \u001b[0mself\u001b[0m\u001b[0;34m.\u001b[0m\u001b[0mlastSleep\u001b[0m \u001b[0;34m+\u001b[0m \u001b[0mself\u001b[0m\u001b[0;34m.\u001b[0m\u001b[0mcalls\u001b[0m\u001b[0;34m*\u001b[0m\u001b[0;34m(\u001b[0m\u001b[0mself\u001b[0m\u001b[0;34m.\u001b[0m\u001b[0muserTime\u001b[0m \u001b[0;34m+\u001b[0m \u001b[0mself\u001b[0m\u001b[0;34m.\u001b[0m\u001b[0mcallTime\u001b[0m \u001b[0;34m+\u001b[0m \u001b[0mself\u001b[0m\u001b[0;34m.\u001b[0m\u001b[0mdelay\u001b[0m\u001b[0;34m)\u001b[0m \u001b[0;34m+\u001b[0m\u001b[0;31m \u001b[0m\u001b[0;31m\\\u001b[0m\u001b[0;34m\u001b[0m\u001b[0;34m\u001b[0m\u001b[0m\n\u001b[1;32m    206\u001b[0m                  \u001b[0mrenders\u001b[0m\u001b[0;34m*\u001b[0m\u001b[0mself\u001b[0m\u001b[0;34m.\u001b[0m\u001b[0mrenderTime\u001b[0m \u001b[0;34m+\u001b[0m \u001b[0msleeps\u001b[0m\u001b[0;34m*\u001b[0m\u001b[0mself\u001b[0m\u001b[0;34m.\u001b[0m\u001b[0minteractionPeriod\u001b[0m \u001b[0;34m-\u001b[0m \u001b[0m_clock\u001b[0m\u001b[0;34m(\u001b[0m\u001b[0;34m)\u001b[0m\u001b[0;34m\u001b[0m\u001b[0;34m\u001b[0m\u001b[0m\n\u001b[0;32m--> 207\u001b[0;31m             \u001b[0m_sleep\u001b[0m\u001b[0;34m(\u001b[0m\u001b[0mdt\u001b[0m\u001b[0;34m)\u001b[0m\u001b[0;34m\u001b[0m\u001b[0;34m\u001b[0m\u001b[0m\n\u001b[0m\u001b[1;32m    208\u001b[0m             \u001b[0mself\u001b[0m\u001b[0;34m.\u001b[0m\u001b[0mlastSleep\u001b[0m \u001b[0;34m=\u001b[0m \u001b[0m_clock\u001b[0m\u001b[0;34m(\u001b[0m\u001b[0;34m)\u001b[0m\u001b[0;34m\u001b[0m\u001b[0;34m\u001b[0m\u001b[0m\n\u001b[1;32m    209\u001b[0m             \u001b[0mself\u001b[0m\u001b[0;34m.\u001b[0m\u001b[0mcalls\u001b[0m \u001b[0;34m=\u001b[0m \u001b[0;36m0\u001b[0m\u001b[0;34m\u001b[0m\u001b[0;34m\u001b[0m\u001b[0m\n",
      "\u001b[0;32m~/anaconda3/lib/python3.7/site-packages/vpython/rate_control.py\u001b[0m in \u001b[0;36m_sleep\u001b[0;34m(dt)\u001b[0m\n\u001b[1;32m     47\u001b[0m         \u001b[0mdtsleep\u001b[0m \u001b[0;34m=\u001b[0m \u001b[0mnticks\u001b[0m\u001b[0;34m*\u001b[0m\u001b[0m_tick\u001b[0m\u001b[0;34m\u001b[0m\u001b[0;34m\u001b[0m\u001b[0m\n\u001b[1;32m     48\u001b[0m         \u001b[0mt\u001b[0m \u001b[0;34m=\u001b[0m \u001b[0m_clock\u001b[0m\u001b[0;34m(\u001b[0m\u001b[0;34m)\u001b[0m\u001b[0;34m\u001b[0m\u001b[0;34m\u001b[0m\u001b[0m\n\u001b[0;32m---> 49\u001b[0;31m         \u001b[0mtime\u001b[0m\u001b[0;34m.\u001b[0m\u001b[0msleep\u001b[0m\u001b[0;34m(\u001b[0m\u001b[0mdtsleep\u001b[0m\u001b[0;34m)\u001b[0m\u001b[0;34m\u001b[0m\u001b[0;34m\u001b[0m\u001b[0m\n\u001b[0m\u001b[1;32m     50\u001b[0m         \u001b[0mt\u001b[0m \u001b[0;34m=\u001b[0m \u001b[0m_clock\u001b[0m\u001b[0;34m(\u001b[0m\u001b[0;34m)\u001b[0m\u001b[0;34m-\u001b[0m\u001b[0mt\u001b[0m\u001b[0;34m\u001b[0m\u001b[0;34m\u001b[0m\u001b[0m\n\u001b[1;32m     51\u001b[0m         \u001b[0mdt\u001b[0m \u001b[0;34m-=\u001b[0m \u001b[0mt\u001b[0m\u001b[0;34m\u001b[0m\u001b[0;34m\u001b[0m\u001b[0m\n",
      "\u001b[0;31mKeyboardInterrupt\u001b[0m: "
     ]
    }
   ],
   "source": [
    "from vpython import *\n",
    "import numpy as np\n",
    "from numpy import linspace, pi, array, sqrt, ones, copy, cos, sin\n",
    "from pylab import plot, show, xlabel, ylabel, legend, figure\n",
    "\n",
    "'''\n",
    "Planet is fixed at (0, 0). Firing satellite directly in its path to see behavior.\n",
    "Will add velocity to planet later. Want to see how close this is to an elastic collision. \n",
    "'''\n",
    "\n",
    "def force(x, y, xsource, ysource):\n",
    "    dx = x - xsource               \n",
    "    dy = y - ysource              \n",
    "    dist = sqrt(dx**2 + dy**2)      \n",
    "    F = G*M*m/dist**2       \n",
    "    fx = -F*dx/dist             \n",
    "    fy = -F*dy/dist\n",
    "    fxo = -fx\n",
    "    fyo = -fy\n",
    "    return array([[fx, fy], [fxo, fyo]])\n",
    "\n",
    "# constants\n",
    "M = 5.972e24\n",
    "m = 2e13\n",
    "R = 3.844e8\n",
    "G = 6.67408e-11\n",
    "dt = 3600\n",
    "\n",
    "# initial conditions\n",
    "# [x,y]\n",
    "r = array([-2*R, 0.01*R], float)  # assume perigee is starting x intercept\n",
    "# [vx, vy]\n",
    "v = array([2e3, 0], float)\n",
    "t = 0\n",
    "\n",
    "# initial conditions for Earth\n",
    "# [x,y]\n",
    "rE = array([0.0, 0.0], float)  # assume perigee is starting x intercept\n",
    "# [vx, vy]\n",
    "vE = array([3e4, 0], float)\n",
    "\n",
    "# data\n",
    "xlist = []\n",
    "ylist = []\n",
    "tlist = []\n",
    "xElist = []\n",
    "yElist = []\n",
    "Epotlist = []\n",
    "Ekinlist = []\n",
    "Elist = []\n",
    "\n",
    "# vpython setup\n",
    "scene = canvas(background = color.white, align=\"left\", center=vector(0,0,0))\n",
    "earth = sphere(pos=vector(0,0,0), radius=0.2, color=color.blue, make_trail=True)\n",
    "satellite = sphere(pos=vector(r[0]/R,r[1]/R,0), radius = 0.08, color=color.magenta, make_trail=True)\n",
    "\n",
    "temp = 0.01*R\n",
    "\n",
    "# approximated using months -> seconds conversion\n",
    "for k in range(1):\n",
    "    temp *= 5\n",
    "    r = array([-2*R, 0.01*R], float)\n",
    "    v = array([1e3, 5e2], float)\n",
    "    rE = array([0, 0], float) \n",
    "    vE = array([2e2, 0], float)\n",
    "\n",
    "    t = 0\n",
    "    xlist = []\n",
    "    ylist = []\n",
    "    xElist = []\n",
    "    yElist = []\n",
    "    tlist = []\n",
    "    Epotlist = []\n",
    "    Ekinlist = []\n",
    "    Elist = []\n",
    "    \n",
    "    x, y = r[0], r[1]\n",
    "    vx, vy = v[0], v[1]\n",
    "    xE, yE = rE[0], rE[1]\n",
    "    vxE, vyE = vE[0], vE[1]\n",
    "    \n",
    "    f = force(x, y, xE, yE)\n",
    "    fe = force(xE, yE, x, y)\n",
    "    vmid = v + 0.5*dt*f[0]/m\n",
    "    vEmid = vE + 0.5*dt*f[1]/M\n",
    "    \n",
    "    while True: #t < 0.5*2629743:\n",
    "        rate(100)\n",
    "\n",
    "        # unpack for energy\n",
    "        x, y = r[0], r[1]\n",
    "        vx, vy = v[0], v[1]\n",
    "        xE, yE = rE[0], rE[1]\n",
    "        vxE, vyE = vE[0], vE[1]\n",
    "        rmag = sqrt(x**2 + y**2)\n",
    "        vmag = sqrt(vx**2 + vy**2)\n",
    "        rEmag = sqrt(xE**2 + yE**2)\n",
    "        vEmag = sqrt(vxE**2 + vyE**2)\n",
    "\n",
    "        xlist.append(x)\n",
    "        ylist.append(y)\n",
    "        xElist.append(xE)\n",
    "        yElist.append(yE)\n",
    "\n",
    "        U = -G*M*m/rmag\n",
    "        Ue = -G*M*m/rEmag\n",
    "        KE = 0.5*m*vmag**2\n",
    "        KEe = 0.5*M*vEmag**2\n",
    "\n",
    "        tlist.append(t)\n",
    "        Epotlist.append(U)\n",
    "        Ekinlist.append(KE)\n",
    "        Elist.append(U + KE)\n",
    "\n",
    "        \n",
    "        # verlet method\n",
    "        r += vmid*dt\n",
    "        rE += vEmid*dt\n",
    "        f = force(r[0], r[1], rE[0], rE[1])\n",
    "        fe = force(rE[0], rE[1], r[0], r[1])\n",
    "        v = vmid + 0.5*dt*f[0]/m\n",
    "        vE = vEmid + 0.5*dt*f[1]/M\n",
    "        vmid += dt*f[0]/m\n",
    "        vEmid += dt*f[1]/M\n",
    "        \n",
    "        \n",
    "        satellite.pos = vector(r[0]/R, r[1]/R, 0)\n",
    "        earth.pos = vector(rE[0]/R, rE[1]/R, 0)\n",
    "        \n",
    "        t += dt\n",
    "\n",
    "    print(\"Theta: \" + str(np.arctan(v[1]/v[0])))\n",
    "\n",
    "    plot(xlist, ylist)\n",
    "    xlabel(\"x\")\n",
    "    ylabel(\"y\")\n",
    "    \n",
    "    #figure()\n",
    "    #plot(tlist, Epotlist, \"r-\", label=\"U\")\n",
    "    #plot(tlist, Ekinlist, \"b-\", label=\"K\")\n",
    "    #plot(tlist, Elist, \"g-\", label=\"Total E\")\n",
    "    #xlabel(\"Time (s)\")\n",
    "    #ylabel('Energy (J)')\n",
    "\n",
    "    #figure()\n",
    "    #plot(tlist, Elist, \"g-\", label=\"Total E\")\n",
    "    #xlabel(\"Time (s)\")\n",
    "    #ylabel('Energy (J)')\n",
    "    #legend()\n",
    "    show()"
   ]
  },
  {
   "cell_type": "code",
   "execution_count": null,
   "metadata": {},
   "outputs": [],
   "source": []
  }
 ],
 "metadata": {
  "kernelspec": {
   "display_name": "Python 3",
   "language": "python",
   "name": "python3"
  },
  "language_info": {
   "codemirror_mode": {
    "name": "ipython",
    "version": 3
   },
   "file_extension": ".py",
   "mimetype": "text/x-python",
   "name": "python",
   "nbconvert_exporter": "python",
   "pygments_lexer": "ipython3",
   "version": "3.7.1"
  }
 },
 "nbformat": 4,
 "nbformat_minor": 2
}
